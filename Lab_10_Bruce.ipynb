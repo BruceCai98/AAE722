{
 "cells": [
  {
   "cell_type": "markdown",
   "metadata": {},
   "source": [
    "# Lab 10\n",
    "Bruce Cai\n",
    "\n",
    "Use a single hidden layer with 10 units, and dropout regularization. Compare the classification performance of your model with that of linear logistic regression."
   ]
  },
  {
   "cell_type": "code",
   "execution_count": 12,
   "metadata": {},
   "outputs": [],
   "source": [
    "import numpy as np, pandas as pd\n",
    "from matplotlib.pyplot import subplots\n",
    "from sklearn.linear_model import \\\n",
    "     (LinearRegression,\n",
    "      LogisticRegression,\n",
    "      Lasso)\n",
    "from sklearn.preprocessing import StandardScaler\n",
    "from sklearn.model_selection import KFold\n",
    "from sklearn.pipeline import Pipeline\n",
    "from ISLP import load_data\n",
    "from ISLP.models import ModelSpec as MS\n",
    "from sklearn.model_selection import \\\n",
    "     (train_test_split,\n",
    "      GridSearchCV)\n",
    "import torch\n",
    "from torch import nn\n",
    "from torch.optim import RMSprop\n",
    "from torch.utils.data import TensorDataset\n",
    "from sklearn.metrics import accuracy_score\n",
    "from sklearn.metrics import confusion_matrix"
   ]
  },
  {
   "cell_type": "code",
   "execution_count": 29,
   "metadata": {},
   "outputs": [],
   "source": [
    "Default = load_data('Default').dropna()\n",
    "n = Default.shape[0]\n",
    "#print(Default.head(4))\n",
    "Default['default'] = Default['default'].map({'Yes': 1, 'No': 0})\n",
    "model = MS(Default.columns.drop('default'), intercept=False)\n",
    "X = model.fit_transform(Default).to_numpy()\n",
    "scaler = StandardScaler()\n",
    "X = scaler.fit_transform(X)\n",
    "Y = Default['default'].to_numpy()\n",
    "(X_train, \n",
    " X_test,\n",
    " Y_train,\n",
    " Y_test) = train_test_split(X,\n",
    "                            Y,\n",
    "                            test_size=0.2,\n",
    "                            random_state=1)\n"
   ]
  },
  {
   "cell_type": "code",
   "execution_count": 36,
   "metadata": {},
   "outputs": [
    {
     "name": "stdout",
     "output_type": "stream",
     "text": [
      "LogisticRegression accuracy is:  0.974\n",
      "[[1930   11]\n",
      " [  41   18]]\n"
     ]
    }
   ],
   "source": [
    "log_reg = LogisticRegression()\n",
    "log_reg.fit(X_train, Y_train)\n",
    "\n",
    "y_log_pred = log_reg.predict(X_test)\n",
    "test_accuracy_log = accuracy_score(Y_test, y_log_pred)\n",
    "\n",
    "print(\"LogisticRegression accuracy is: \",test_accuracy_log)\n",
    "cm = confusion_matrix(Y_test, y_log_pred)\n",
    "print(cm)"
   ]
  },
  {
   "cell_type": "code",
   "execution_count": 31,
   "metadata": {},
   "outputs": [],
   "source": [
    "X_train = torch.tensor(X_train, dtype=torch.float32)\n",
    "X_test = torch.tensor(X_test, dtype=torch.float32)\n",
    "y_train = torch.tensor(Y_train, dtype=torch.float32).unsqueeze(1)\n",
    "y_test = torch.tensor(Y_test, dtype=torch.float32).unsqueeze(1)"
   ]
  },
  {
   "cell_type": "code",
   "execution_count": null,
   "metadata": {},
   "outputs": [
    {
     "name": "stdout",
     "output_type": "stream",
     "text": [
      "Epoch 10/100, Loss: 0.3599\n",
      "Epoch 20/100, Loss: 0.2405\n",
      "Epoch 30/100, Loss: 0.1813\n",
      "Epoch 40/100, Loss: 0.1538\n",
      "Epoch 50/100, Loss: 0.1371\n",
      "Epoch 60/100, Loss: 0.1255\n",
      "Epoch 70/100, Loss: 0.1185\n",
      "Epoch 80/100, Loss: 0.1116\n",
      "Epoch 90/100, Loss: 0.1102\n",
      "Epoch 100/100, Loss: 0.1059\n"
     ]
    }
   ],
   "source": [
    "class DefaultModel(nn.Module):\n",
    "    def __init__(self, input_size):\n",
    "        super(DefaultModel, self).__init__()\n",
    "        self.layer1 = nn.Sequential(\n",
    "            nn.Linear(input_size, 10),  \n",
    "            nn.ReLU(),                 \n",
    "            nn.Dropout(0.4)            \n",
    "        )\n",
    "        self.output_layer = nn.Linear(10, 1)  \n",
    "\n",
    "    def forward(self, x):\n",
    "        x = self.layer1(x)\n",
    "        x = self.output_layer(x)\n",
    "        return torch.sigmoid(x) \n",
    "input_size = X_train.shape[1]\n",
    "model = DefaultModel(input_size)\n",
    "\n",
    "\n",
    "criterion = nn.BCELoss()  \n",
    "optimizer = torch.optim.Adam(model.parameters(), lr=0.01)\n",
    "\n",
    "\n",
    "num_epochs = 100\n",
    "for epoch in range(num_epochs):\n",
    "    model.train()\n",
    "    optimizer.zero_grad()\n",
    "    y_pred = model(X_train)\n",
    "    loss = criterion(y_pred, y_train)\n",
    "    loss.backward()\n",
    "    optimizer.step()\n",
    "\n",
    "    if (epoch + 1) % 10 == 0:\n",
    "        print(f\"Epoch {epoch+1}/{num_epochs}, Loss: {loss.item():.4f}\")"
   ]
  },
  {
   "cell_type": "code",
   "execution_count": null,
   "metadata": {},
   "outputs": [
    {
     "name": "stdout",
     "output_type": "stream",
     "text": [
      "Test Accuracy: 0.9705\n"
     ]
    }
   ],
   "source": [
    "model.eval()\n",
    "with torch.no_grad():\n",
    "    y_pred_test = model(X_test)\n",
    "    y_pred_test_class = (y_pred_test >= 0.5).float()  \n",
    "\n",
    "\n",
    "accuracy = (y_pred_test_class == y_test).float().mean()\n",
    "print(f\"Test Accuracy: {accuracy:.4f}\")"
   ]
  },
  {
   "cell_type": "markdown",
   "metadata": {},
   "source": [
    "The LogisticRegression accuracy is 0.974, which is slightly higher than the single layer NN model."
   ]
  },
  {
   "cell_type": "code",
   "execution_count": null,
   "metadata": {},
   "outputs": [],
   "source": []
  }
 ],
 "metadata": {
  "kernelspec": {
   "display_name": "Python 3",
   "language": "python",
   "name": "python3"
  },
  "language_info": {
   "codemirror_mode": {
    "name": "ipython",
    "version": 3
   },
   "file_extension": ".py",
   "mimetype": "text/x-python",
   "name": "python",
   "nbconvert_exporter": "python",
   "pygments_lexer": "ipython3",
   "version": "3.11.9"
  }
 },
 "nbformat": 4,
 "nbformat_minor": 2
}
