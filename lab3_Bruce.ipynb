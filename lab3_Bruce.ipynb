{
 "cells": [
  {
   "cell_type": "code",
   "execution_count": 32,
   "metadata": {},
   "outputs": [
    {
     "data": {
      "text/plain": [
       "Index(['Unnamed: 0', 'Private', 'Apps', 'Accept', 'Enroll', 'Top10perc',\n",
       "       'Top25perc', 'F.Undergrad', 'P.Undergrad', 'Outstate', 'Room.Board',\n",
       "       'Books', 'Personal', 'PhD', 'Terminal', 'S.F.Ratio', 'perc.alumni',\n",
       "       'Expend', 'Grad.Rate'],\n",
       "      dtype='object')"
      ]
     },
     "execution_count": 32,
     "metadata": {},
     "output_type": "execute_result"
    }
   ],
   "source": [
    "import numpy as np\n",
    "import pandas as pd\n",
    "from matplotlib.pyplot import subplots\n",
    "import statsmodels.api as sm\n",
    "from ISLP import load_data\n",
    "from ISLP.models import (ModelSpec as MS,\n",
    "                         summarize,\n",
    "                         poly)\n",
    "from statsmodels.stats.outliers_influence \\\n",
    "     import variance_inflation_factor as VIF\n",
    "data = pd.read_csv(\"D://desktop//AAE722//raw_data//College.csv\")\n",
    "data.columns"
   ]
  },
  {
   "cell_type": "code",
   "execution_count": 33,
   "metadata": {},
   "outputs": [
    {
     "name": "stdout",
     "output_type": "stream",
     "text": [
      "                            OLS Regression Results                            \n",
      "==============================================================================\n",
      "Dep. Variable:                 Enroll   R-squared:                       0.831\n",
      "Model:                            OLS   Adj. R-squared:                  0.831\n",
      "Method:                 Least Squares   F-statistic:                     3813.\n",
      "Date:                Fri, 20 Sep 2024   Prob (F-statistic):          1.67e-301\n",
      "Time:                        22:01:16   Log-Likelihood:                -5721.4\n",
      "No. Observations:                 777   AIC:                         1.145e+04\n",
      "Df Residuals:                     775   BIC:                         1.146e+04\n",
      "Df Model:                           1                                         \n",
      "Covariance Type:            nonrobust                                         \n",
      "==============================================================================\n",
      "                 coef    std err          t      P>|t|      [0.025      0.975]\n",
      "------------------------------------------------------------------------------\n",
      "intercept     82.3021     17.765      4.633      0.000      47.429     117.175\n",
      "Accept         0.3456      0.006     61.750      0.000       0.335       0.357\n",
      "==============================================================================\n",
      "Omnibus:                      293.016   Durbin-Watson:                   1.691\n",
      "Prob(Omnibus):                  0.000   Jarque-Bera (JB):            44142.694\n",
      "Skew:                          -0.550   Prob(JB):                         0.00\n",
      "Kurtosis:                      39.909   Cond. No.                     4.11e+03\n",
      "==============================================================================\n",
      "\n",
      "Notes:\n",
      "[1] Standard Errors assume that the covariance matrix of the errors is correctly specified.\n",
      "[2] The condition number is large, 4.11e+03. This might indicate that there are\n",
      "strong multicollinearity or other numerical problems.\n"
     ]
    }
   ],
   "source": [
    "#1\n",
    "X = pd.DataFrame({'intercept': np.ones(data.shape[0]),\n",
    "                  'Accept': data['Accept']})\n",
    "\n",
    "y = data['Enroll']\n",
    "model = sm.OLS(y, X)\n",
    "results = model.fit()\n",
    "print(results.summary()) "
   ]
  },
  {
   "cell_type": "code",
   "execution_count": 34,
   "metadata": {},
   "outputs": [
    {
     "name": "stdout",
     "output_type": "stream",
     "text": [
      "[508.0642647  747.20989214 461.41013218 202.91167939 132.75768753]\n",
      "[[479.79887554 536.32965386]\n",
      " [720.27853777 774.14124651]\n",
      " [432.65647858 490.16378578]\n",
      " [170.34255744 235.48080134]\n",
      " [ 98.88221955 166.6331555 ]]\n"
     ]
    }
   ],
   "source": [
    "#1.a\n",
    "design = MS(['Accept'])\n",
    "\n",
    "X_1 = design.fit_transform(data)\n",
    "\n",
    "new_predictions = results.get_prediction(X_1.iloc[:5]); \n",
    "new_predictions.predicted_mean \n",
    "print(new_predictions.predicted_mean)\n",
    "new_predictions.conf_int(alpha=0.05)\n",
    "print(new_predictions.conf_int(alpha=0.05))"
   ]
  },
  {
   "cell_type": "code",
   "execution_count": 35,
   "metadata": {},
   "outputs": [
    {
     "name": "stderr",
     "output_type": "stream",
     "text": [
      "C:\\Users\\bruce\\AppData\\Local\\Temp\\ipykernel_11308\\1150974516.py:9: FutureWarning: Series.__getitem__ treating keys as positions is deprecated. In a future version, integer keys will always be treated as labels (consistent with DataFrame behavior). To access a value by position, use `ser.iloc[pos]`\n",
      "  results.params[0],\n",
      "C:\\Users\\bruce\\AppData\\Local\\Temp\\ipykernel_11308\\1150974516.py:10: FutureWarning: Series.__getitem__ treating keys as positions is deprecated. In a future version, integer keys will always be treated as labels (consistent with DataFrame behavior). To access a value by position, use `ser.iloc[pos]`\n",
      "  results.params[1],\n"
     ]
    },
    {
     "data": {
      "image/png": "[encoded data removed]",
      "text/plain": [
       "<Figure size 640x480 with 1 Axes>"
      ]
     },
     "metadata": {},
     "output_type": "display_data"
    }
   ],
   "source": [
    "#1.b\n",
    "def abline(ax, b, m, *args, **kwargs):\n",
    "    \"Add a line with slope m and intercept b to ax\"\n",
    "    xlim = ax.get_xlim()\n",
    "    ylim = [m * xlim[0] + b, m * xlim[1] + b]\n",
    "    ax.plot(xlim, ylim, *args, **kwargs)\n",
    "ax = data.plot.scatter('Accept', 'Enroll')\n",
    "abline(ax,\n",
    "       results.params[0],\n",
    "       results.params[1],\n",
    "       'r--',\n",
    "       linewidth=1)"
   ]
  },
  {
   "cell_type": "code",
   "execution_count": 36,
   "metadata": {},
   "outputs": [
    {
     "name": "stdout",
     "output_type": "stream",
     "text": [
      "               coef  std err       t  P>|t|\n",
      "intercept  163.9809   29.783   5.506  0.000\n",
      "Accept       0.3480    0.006  62.109  0.000\n",
      "Expend      -0.0090    0.003  -3.404  0.001\n"
     ]
    }
   ],
   "source": [
    "#2\n",
    "X = MS(['Accept', 'Expend']).fit_transform(data)\n",
    "model1 = sm.OLS(y, X)\n",
    "results1 = model1.fit()\n",
    "print(summarize(results1))"
   ]
  },
  {
   "cell_type": "code",
   "execution_count": 37,
   "metadata": {},
   "outputs": [
    {
     "name": "stdout",
     "output_type": "stream",
     "text": [
      "           vif\n",
      "Accept  1.0158\n",
      "Expend  1.0158\n"
     ]
    }
   ],
   "source": [
    "#2.a\n",
    "vals = [VIF(X, i)\n",
    "        for i in range(1, X.shape[1])]\n",
    "vif = pd.DataFrame({'vif':vals},\n",
    "                   index=X.columns[1:])\n",
    "print(vif)"
   ]
  },
  {
   "cell_type": "code",
   "execution_count": null,
   "metadata": {},
   "outputs": [],
   "source": []
  }
 ],
 "metadata": {
  "kernelspec": {
   "display_name": "base",
   "language": "python",
   "name": "python3"
  },
  "language_info": {
   "codemirror_mode": {
    "name": "ipython",
    "version": 3
   },
   "file_extension": ".py",
   "mimetype": "text/x-python",
   "name": "python",
   "nbconvert_exporter": "python",
   "pygments_lexer": "ipython3",
   "version": "3.9.13"
  }
 },
 "nbformat": 4,
 "nbformat_minor": 2
}
