{
 "cells": [
  {
   "cell_type": "markdown",
   "metadata": {},
   "source": [
    "# AAE722 Homework 1\n",
    "Bruce Cai"
   ]
  },
  {
   "cell_type": "code",
   "execution_count": 93,
   "metadata": {},
   "outputs": [],
   "source": [
    "import numpy as np\n",
    "import pandas as pd\n",
    "from matplotlib.pyplot import subplots\n",
    "import statsmodels.api as sm\n",
    "from ISLP import load_data\n",
    "from ISLP.models import (ModelSpec as MS,\n",
    "                         summarize)\n",
    "from ISLP import confusion_table\n",
    "from ISLP.models import contrast\n",
    "from sklearn.discriminant_analysis import \\\n",
    "     (LinearDiscriminantAnalysis as LDA,\n",
    "      QuadraticDiscriminantAnalysis as QDA)\n",
    "from sklearn.naive_bayes import GaussianNB\n",
    "from sklearn.neighbors import KNeighborsClassifier\n",
    "from sklearn.preprocessing import StandardScaler\n",
    "from sklearn.model_selection import train_test_split\n",
    "from sklearn.linear_model import LogisticRegression"
   ]
  },
  {
   "cell_type": "markdown",
   "metadata": {},
   "source": [
    "## 1 Question1"
   ]
  },
  {
   "cell_type": "code",
   "execution_count": 94,
   "metadata": {},
   "outputs": [
    {
     "data": {
      "text/html": [
       "<div>\n",
       "<style scoped>\n",
       "    .dataframe tbody tr th:only-of-type {\n",
       "        vertical-align: middle;\n",
       "    }\n",
       "\n",
       "    .dataframe tbody tr th {\n",
       "        vertical-align: top;\n",
       "    }\n",
       "\n",
       "    .dataframe thead th {\n",
       "        text-align: right;\n",
       "    }\n",
       "</style>\n",
       "<table border=\"1\" class=\"dataframe\">\n",
       "  <thead>\n",
       "    <tr style=\"text-align: right;\">\n",
       "      <th></th>\n",
       "      <th>Unnamed: 0</th>\n",
       "      <th>TV</th>\n",
       "      <th>Radio</th>\n",
       "      <th>Newspaper</th>\n",
       "      <th>Sales</th>\n",
       "    </tr>\n",
       "  </thead>\n",
       "  <tbody>\n",
       "    <tr>\n",
       "      <th>0</th>\n",
       "      <td>1</td>\n",
       "      <td>230.1</td>\n",
       "      <td>37.8</td>\n",
       "      <td>69.2</td>\n",
       "      <td>22.1</td>\n",
       "    </tr>\n",
       "    <tr>\n",
       "      <th>1</th>\n",
       "      <td>2</td>\n",
       "      <td>44.5</td>\n",
       "      <td>39.3</td>\n",
       "      <td>45.1</td>\n",
       "      <td>10.4</td>\n",
       "    </tr>\n",
       "    <tr>\n",
       "      <th>2</th>\n",
       "      <td>3</td>\n",
       "      <td>17.2</td>\n",
       "      <td>45.9</td>\n",
       "      <td>69.3</td>\n",
       "      <td>9.3</td>\n",
       "    </tr>\n",
       "    <tr>\n",
       "      <th>3</th>\n",
       "      <td>4</td>\n",
       "      <td>151.5</td>\n",
       "      <td>41.3</td>\n",
       "      <td>58.5</td>\n",
       "      <td>18.5</td>\n",
       "    </tr>\n",
       "    <tr>\n",
       "      <th>4</th>\n",
       "      <td>5</td>\n",
       "      <td>180.8</td>\n",
       "      <td>10.8</td>\n",
       "      <td>58.4</td>\n",
       "      <td>12.9</td>\n",
       "    </tr>\n",
       "    <tr>\n",
       "      <th>...</th>\n",
       "      <td>...</td>\n",
       "      <td>...</td>\n",
       "      <td>...</td>\n",
       "      <td>...</td>\n",
       "      <td>...</td>\n",
       "    </tr>\n",
       "    <tr>\n",
       "      <th>195</th>\n",
       "      <td>196</td>\n",
       "      <td>38.2</td>\n",
       "      <td>3.7</td>\n",
       "      <td>13.8</td>\n",
       "      <td>7.6</td>\n",
       "    </tr>\n",
       "    <tr>\n",
       "      <th>196</th>\n",
       "      <td>197</td>\n",
       "      <td>94.2</td>\n",
       "      <td>4.9</td>\n",
       "      <td>8.1</td>\n",
       "      <td>9.7</td>\n",
       "    </tr>\n",
       "    <tr>\n",
       "      <th>197</th>\n",
       "      <td>198</td>\n",
       "      <td>177.0</td>\n",
       "      <td>9.3</td>\n",
       "      <td>6.4</td>\n",
       "      <td>12.8</td>\n",
       "    </tr>\n",
       "    <tr>\n",
       "      <th>198</th>\n",
       "      <td>199</td>\n",
       "      <td>283.6</td>\n",
       "      <td>42.0</td>\n",
       "      <td>66.2</td>\n",
       "      <td>25.5</td>\n",
       "    </tr>\n",
       "    <tr>\n",
       "      <th>199</th>\n",
       "      <td>200</td>\n",
       "      <td>232.1</td>\n",
       "      <td>8.6</td>\n",
       "      <td>8.7</td>\n",
       "      <td>13.4</td>\n",
       "    </tr>\n",
       "  </tbody>\n",
       "</table>\n",
       "<p>200 rows × 5 columns</p>\n",
       "</div>"
      ],
      "text/plain": [
       "     Unnamed: 0     TV  Radio  Newspaper  Sales\n",
       "0             1  230.1   37.8       69.2   22.1\n",
       "1             2   44.5   39.3       45.1   10.4\n",
       "2             3   17.2   45.9       69.3    9.3\n",
       "3             4  151.5   41.3       58.5   18.5\n",
       "4             5  180.8   10.8       58.4   12.9\n",
       "..          ...    ...    ...        ...    ...\n",
       "195         196   38.2    3.7       13.8    7.6\n",
       "196         197   94.2    4.9        8.1    9.7\n",
       "197         198  177.0    9.3        6.4   12.8\n",
       "198         199  283.6   42.0       66.2   25.5\n",
       "199         200  232.1    8.6        8.7   13.4\n",
       "\n",
       "[200 rows x 5 columns]"
      ]
     },
     "execution_count": 94,
     "metadata": {},
     "output_type": "execute_result"
    }
   ],
   "source": [
    "data = pd.read_csv(\"D://desktop//AAE722//raw_data//Advertising.csv\")\n",
    "data"
   ]
  },
  {
   "cell_type": "markdown",
   "metadata": {},
   "source": [
    "### 1.1 Replicating the Regression Table\n"
   ]
  },
  {
   "cell_type": "code",
   "execution_count": 95,
   "metadata": {},
   "outputs": [
    {
     "name": "stdout",
     "output_type": "stream",
     "text": [
      "             coef  std err       t  P>|t|\n",
      "intercept  2.9389    0.312   9.422   0.00\n",
      "TV         0.0458    0.001  32.809   0.00\n",
      "Radio      0.1885    0.009  21.893   0.00\n",
      "Newspaper -0.0010    0.006  -0.177   0.86\n"
     ]
    }
   ],
   "source": [
    "X = MS(['TV', 'Radio','Newspaper']).fit_transform(data)\n",
    "y = data[\"Sales\"]\n",
    "model1 = sm.OLS(y, X)\n",
    "results1 = model1.fit()\n",
    "print(summarize(results1))"
   ]
  },
  {
   "cell_type": "markdown",
   "metadata": {},
   "source": [
    "### 1.2 Hypotheses for the p-values\n",
    "For \"TV\", the null hypothesis (H<sub>0</sub>) is: &beta;<sub>TV</sub>=0, which suggests that TV advertising has no effect on sales. A close to 0 p-value would reject this null hypothesis, indicating that TV advertising has a statistically significant effect on sales.\n",
    "\n",
    "For \"Radio\", the null hypothesis (H<sub>0</sub>) is: &beta;<sub>Radio</sub>=0, which suggests that Radio advertising has no effect on sales. Similar to TV, a close to 0 p-value would reject this null hypothesis, indicating that Radio advertising has a statistically significant effect on sales.\n",
    "\n",
    "\n",
    "For \"Newspaper\", the null hypothesis (H<sub>0</sub>) is: &beta;<sub>Newspaper</sub>=0, which suggests that Newspaper advertising has no effect on sales. The p-value=0.86 is very high. Thus we fail to reject the null hypothesis, meaning there is no statistically significant relationship between newspaper advertising and sales based on this model."
   ]
  },
  {
   "cell_type": "markdown",
   "metadata": {},
   "source": [
    "### 1.3 Interpreting the Results\n",
    "Both TV and radio advertising have significant positive effects on sales, with radio having a stronger estimated effect than TV. The coefficients for TV and Radio are 0.0458 and 0.1885. Meas that for every 1 unit increase in TV advertising spending, sales are expected to increase by 0.0458 units. And for every 1 unit increase in Radio advertising spending, sales are expected to increase by 0.1885 units.\n",
    " \n",
    "There is no statistically significant relationship between newspaper and sales, suggesting that newspaper advertising may not be an effective channel to increasing sales in this case."
   ]
  },
  {
   "cell_type": "markdown",
   "metadata": {},
   "source": [
    "# 2 Question2\n",
    "KNN Classifier: KNN Classifier is a classification method that categorizes the most similar K samples based on the similarity of the independent variables among the samples by the given parameter K.\n",
    "\n",
    "KNN Regression: KNN regression is a regression method based on KNN classification. After classify the sample using KNN, the target is predicted by calculating the mean of the K samples that are most similar to the other variables of the predicted target."
   ]
  },
  {
   "cell_type": "markdown",
   "metadata": {},
   "source": [
    "# 3 Question3\n",
    "\n",
    "(a) I would expect the cubic regression has lower training RSS than linear. Because the cubic regression model is based on a linear model (when &beta;<sub>2</sub>=&beta;<sub>3</sub>=0 it's a linear model), there is more flexibility to fit the training set when using cubic regression.\n",
    "\n",
    "(b) But there is anthoer situation when it's \"test\" data set. Cubic regression will capture the noise of the training set due to overfitting, making his test set perform less well than linear. So the RSS for cubic regression will probably larger.\n",
    "\n",
    "(c) I would expect the cubic regression has lower training RSS than linear. Because the cubic model is more flexible due to it's higher order terms (X<sup>2</sup>, X<sup>3</sup>), and can approximate a wider variety of relationships between X and Y. \n",
    "\n",
    "(d) I would also expect the cubic regression has lower testing RSS than linear since its flexibility and the true founction it's non-linear. But in some special case it's hard to tell which model will have lower RSS, for example when the true founction is close to linear but not linear.\n"
   ]
  },
  {
   "cell_type": "markdown",
   "metadata": {},
   "source": [
    "# 4 Question4"
   ]
  },
  {
   "cell_type": "code",
   "execution_count": 96,
   "metadata": {},
   "outputs": [],
   "source": [
    "rng = np.random.default_rng(1)\n",
    "x = rng.normal(size=100)\n",
    "y = 2 * x + rng.normal(size=100)"
   ]
  },
  {
   "cell_type": "markdown",
   "metadata": {},
   "source": [
    "(a)"
   ]
  },
  {
   "cell_type": "code",
   "execution_count": 97,
   "metadata": {},
   "outputs": [
    {
     "name": "stdout",
     "output_type": "stream",
     "text": [
      "      coef  std err       t  P>|t|\n",
      "x1  1.9762    0.117  16.898    0.0\n"
     ]
    }
   ],
   "source": [
    "model1 = sm.OLS(y, x).fit()\n",
    "print(summarize(model1))\n",
    "\n"
   ]
  },
  {
   "cell_type": "markdown",
   "metadata": {},
   "source": [
    "In this model we do not include the intercept term, which is the same as in the true founction. The estimate &beta; is 1.97 close to the true &beta;=2. And the p-value is 0.0 means we rejects the null hypothesis, the relationship between x and y is statistically significant."
   ]
  },
  {
   "cell_type": "markdown",
   "metadata": {},
   "source": [
    "(b)"
   ]
  },
  {
   "cell_type": "code",
   "execution_count": 98,
   "metadata": {},
   "outputs": [
    {
     "name": "stdout",
     "output_type": "stream",
     "text": [
      "      coef  std err       t  P>|t|\n",
      "x1  0.3757    0.022  16.898    0.0\n"
     ]
    }
   ],
   "source": [
    "model2 = sm.OLS(x, y).fit()\n",
    "\n",
    "print(summarize(model2))\n"
   ]
  },
  {
   "cell_type": "markdown",
   "metadata": {},
   "source": [
    "The coefficient estimate is 0.3757, smaller than I expected around 0.5, the p-value is still close to 0, indicating a significant result."
   ]
  },
  {
   "cell_type": "markdown",
   "metadata": {},
   "source": [
    "(c) I would have expected the two coefficients to be the inverse of each other roughly 2 and 0.5, but the second coefficient is only 0.3757. I'm guessing it's because the theoretical coefficient of 0.5 when regressing x onto y is affected by the  error term \"rng.normal(size=100)\", while there is no INTERCEPT term to adjust the model not pass the zero point. The t-statistic is same."
   ]
  },
  {
   "cell_type": "markdown",
   "metadata": {},
   "source": [
    "(d) \n",
    "$$\n",
    "\\hat{\\beta} = \\left( \\sum_{i=1}^{n} x_i y_i \\right) \\Bigg/ \\left( \\sum_{i=1}^{n} x_i^2 \\right)\n",
    "$$\n",
    "since $(y_i - x_i \\hat{\\beta})^2 = ϵ^2$, and the sum of it is SSE\n",
    "$$\n",
    "\\text{SE}(\\hat{\\beta}) = \\sqrt{ \\frac{\\sum_{i=1}^{n} (y_i - x_i \\hat{\\beta})^2}{(n - 1) \\sum_{i'=1}^{n} x_{i'}^2} }\n",
    "$$\n",
    "$$\n",
    "\\hat{\\beta}/\\text{SE}(\\hat{\\beta}) = \\frac{(\\sqrt{n-1})\\sum_{i=1}^{n} x_i y_i}{\\sqrt{SSE \\sum_{i=1}^{n} x_i^2}}\n",
    "$$\n"
   ]
  },
  {
   "cell_type": "code",
   "execution_count": 99,
   "metadata": {},
   "outputs": [
    {
     "name": "stdout",
     "output_type": "stream",
     "text": [
      "16.8984170630351 16.89841706303509\n",
      "t_1 = t_2: True\n"
     ]
    }
   ],
   "source": [
    "beta_hat = sum(x*y)/sum(x**2)\n",
    "se_beta = (sum((y-x*beta_hat)**2)/(99*sum(x**2)))**0.5\n",
    "t_1 = beta_hat/se_beta\n",
    "t_2 = ((99**0.5)*sum(x*y))/((sum(x**2)*sum(y**2)-(sum(x*y))**2)**0.5)\n",
    "print(t_1,t_2)\n",
    "print(\"t_1 = t_2:\",round(t_1,4)==round(t_2,4))"
   ]
  },
  {
   "cell_type": "markdown",
   "metadata": {},
   "source": [
    "(e) Since the t-statistic can be calculated by:\n",
    "$$\n",
    "t = \\frac{(\\sqrt{n-1}) \\sum_{i=1}^{n} x_i y_i}{\\sqrt{\\left( \\sum_{i=1}^{n} x_i^2 \\right) \\left( \\sum_{i=1}^{n} y_i^2 \\right) - \\left( \\sum_{i=1}^{n} x_i y_i \\right)^2}}\n",
    "$$\n",
    "there is no difference when we swap x and y in this formula. So the t-statistic should remain the same."
   ]
  },
  {
   "cell_type": "markdown",
   "metadata": {},
   "source": [
    "(f)"
   ]
  },
  {
   "cell_type": "code",
   "execution_count": 104,
   "metadata": {},
   "outputs": [
    {
     "name": "stdout",
     "output_type": "stream",
     "text": [
      "             coef  std err       t  P>|t|\n",
      "intercept -0.0760    0.101  -0.756  0.451\n",
      "x          1.9686    0.118  16.734  0.000\n",
      "             coef  std err       t  P>|t|\n",
      "intercept  0.0095    0.044   0.216  0.829\n",
      "y          0.3763    0.022  16.734  0.000\n"
     ]
    }
   ],
   "source": [
    "df = pd.DataFrame({'x': x, 'y': y})\n",
    "X = MS(['x']).fit_transform(df)\n",
    "model1 = sm.OLS(y, X)\n",
    "results1 = model1.fit()\n",
    "print(summarize(results1))\n",
    "Y = MS(['y']).fit_transform(df)\n",
    "model2 = sm.OLS(x, Y)\n",
    "results2 = model2.fit()\n",
    "print(summarize(results2))\n"
   ]
  },
  {
   "cell_type": "code",
   "execution_count": null,
   "metadata": {},
   "outputs": [],
   "source": []
  }
 ],
 "metadata": {
  "kernelspec": {
   "display_name": "Python 3",
   "language": "python",
   "name": "python3"
  },
  "language_info": {
   "codemirror_mode": {
    "name": "ipython",
    "version": 3
   },
   "file_extension": ".py",
   "mimetype": "text/x-python",
   "name": "python",
   "nbconvert_exporter": "python",
   "pygments_lexer": "ipython3",
   "version": "3.11.9"
  }
 },
 "nbformat": 4,
 "nbformat_minor": 2
}
